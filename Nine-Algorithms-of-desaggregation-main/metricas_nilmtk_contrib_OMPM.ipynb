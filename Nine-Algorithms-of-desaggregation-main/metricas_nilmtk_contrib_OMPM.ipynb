{
 "cells": [
  {
   "cell_type": "markdown",
   "metadata": {},
   "source": [
    "## NILMTK Rapid Experimentation API"
   ]
  },
  {
   "cell_type": "code",
   "execution_count": 4,
   "metadata": {},
   "outputs": [
    {
     "name": "stdout",
     "output_type": "stream",
     "text": [
      "Available buildings: OrderedDict([(1, Building(instance=1, dataset='DSUAL'))])\n",
      "Mains: ElecMeter(instance=1, building=1, dataset='DSUAL', site_meter, appliances=[])\n",
      "Available appliances:\n",
      "Appliance(type='fryer', instance=1)\n",
      "Appliance(type='incandescent lamp', instance=1)\n",
      "Appliance(type='fan', instance=1)\n",
      "Appliance(type='laptop computer', instance=1)\n",
      "Appliance(type='LED lamp', instance=1)\n",
      "Available current types: ['active']\n"
     ]
    }
   ],
   "source": [
    "from nilmtk import DataSet  # Import the DataSet class from the nilmtk library\n",
    "\n",
    "ds = DataSet('ualm2.h5')  # Load the dataset from the file 'dsual.h5'\n",
    "\n",
    "print(\"Available buildings:\", ds.buildings)  # Print the list of available buildings in the dataset\n",
    "\n",
    "elec = ds.buildings[1].elec  # Access the electricity meter data for building 1\n",
    "\n",
    "print(\"Mains:\", elec.mains())  # Print the mains meter(s) associated with building 1\n",
    "\n",
    "print(\"Available appliances:\")\n",
    "for app in elec.appliances:  # Iterate over all appliances in building 1's electricity meter\n",
    "    print(app)  # Print each appliance object (usually shows type and identifier)\n",
    "\n",
    "print(\"Available current types:\", elec.mains().available_ac_types('power'))  \n",
    "# Print the available power types (e.g., active, reactive) for the mains meter\n"
   ]
  },
  {
   "cell_type": "code",
   "execution_count": 8,
   "metadata": {},
   "outputs": [
    {
     "name": "stdout",
     "output_type": "stream",
     "text": [
      "Name: nilmtk\n",
      "Version: 0.4.0.dev1+git.303d45b\n",
      "Summary: Estimate the energy consumed by individual appliances from whole-house power meter readings\n",
      "Home-page: https://github.com/nilmtk/nilmtk\n",
      "Author: NILMTK developers\n",
      "Author-email: \n",
      "License: Apache 2.0\n",
      "Location: /home/carlos/nilmtk_env/lib/python3.7/site-packages\n",
      "Requires: hmmlearn, jupyterlab, matplotlib, networkx, numpy, pandas, pyyaml, scikit-learn, scipy, tables\n",
      "Required-by: nilmtk-contrib\n",
      "Note: you may need to restart the kernel to use updated packages.\n"
     ]
    }
   ],
   "source": [
    "pip show nilmtk"
   ]
  },
  {
   "cell_type": "code",
   "execution_count": 9,
   "metadata": {},
   "outputs": [
    {
     "name": "stdout",
     "output_type": "stream",
     "text": [
      "Name: nilmtk-contrib\n",
      "Version: 0.1.2.dev1+git.0dd2ef5\n",
      "Summary: State-of-the-art algorithms for the task of energy disaggregation implemented using NILMTK's Rapid Experimentation API\n",
      "Home-page: https://github.com/nilmtk/nilmtk-contrib\n",
      "Author: NILMTK-contrib developers\n",
      "Author-email: \n",
      "License: Apache 2.0\n",
      "Location: /home/carlos/nilmtk_env/lib/python3.7/site-packages\n",
      "Requires: cvxpy, nilmtk, tensorflow\n",
      "Required-by: \n",
      "Note: you may need to restart the kernel to use updated packages.\n"
     ]
    }
   ],
   "source": [
    "pip show nilmtk_contrib"
   ]
  },
  {
   "cell_type": "code",
   "execution_count": 10,
   "metadata": {},
   "outputs": [
    {
     "name": "stdout",
     "output_type": "stream",
     "text": [
      "Name: nilm-metadata\n",
      "Version: 0.2.5\n",
      "Summary: Concatenate NILM metadata\n",
      "Home-page: https://github.com/nilmtk/nilm_metadata\n",
      "Author: Jack Kelly\n",
      "Author-email: jack.kelly@imperial.ac.uk\n",
      "License: MIT\n",
      "Location: /home/carlos/nilmtk_env/lib/python3.7/site-packages\n",
      "Requires: pandas, PyYAML, six\n",
      "Required-by: \n",
      "Note: you may need to restart the kernel to use updated packages.\n"
     ]
    }
   ],
   "source": [
    "pip show nilm_metadata"
   ]
  },
  {
   "cell_type": "code",
   "execution_count": 11,
   "metadata": {},
   "outputs": [],
   "source": [
    "%matplotlib inline\n",
    "import pandas as pd\n",
    "import matplotlib.pyplot as plt\n",
    "import networkx as nx\n",
    "from matplotlib import rcParams\n",
    "from nilmtk.utils import print_dict\n",
    "from nilmtk import DataSet\n",
    "import warnings\n",
    "warnings. filterwarnings(\"ignore\")\n",
    "plt.style.use('bmh')"
   ]
  },
  {
   "cell_type": "code",
   "execution_count": 12,
   "metadata": {},
   "outputs": [
    {
     "name": "stdout",
     "output_type": "stream",
     "text": [
      "Keras version: 2.2.4\n",
      "NumPy version: 1.19.5\n",
      "Pandas version: 0.25.3\n",
      "Matplotlib version: 3.1.3\n",
      "Scikit-Learn: 0.24.2\n",
      "Tables version: 3.6.1\n"
     ]
    }
   ],
   "source": [
    "import keras\n",
    "print(\"Keras version:\", keras.__version__)  # Print the installed Keras version\n",
    "\n",
    "# import tensorflow.keras as tf_keras\n",
    "# print(tf_keras.__version__)  # (Commented out) Print the TensorFlow Keras version if needed\n",
    "\n",
    "import numpy as np\n",
    "import pandas as pd\n",
    "\n",
    "print(\"NumPy version:\", np.__version__)    # Print the NumPy version (e.g., 1.21.6; in the nilmtk environment it is 1.19.5)\n",
    "print(\"Pandas version:\", pd.__version__)   # Print the Pandas version (e.g., 0.25.3; same version in nilmtk environment)\n",
    "\n",
    "import matplotlib as plt\n",
    "print(\"Matplotlib version:\", plt.__version__)  # Print the Matplotlib version (e.g., 3.2.2; same in nilmtk environment)\n",
    "\n",
    "import sklearn as sl\n",
    "print(\"Scikit-Learn version:\", sl.__version__)  # Print the Scikit-Learn version\n",
    "\n",
    "import tables as tl\n",
    "print(\"Tables version:\", tl.__version__)  # Print the PyTables version\n"
   ]
  },
  {
   "cell_type": "code",
   "execution_count": 13,
   "metadata": {},
   "outputs": [
    {
     "name": "stdout",
     "output_type": "stream",
     "text": [
      "0.4.0.dev1+git.303d45b\n"
     ]
    }
   ],
   "source": [
    "import nilmtk\n",
    "print(nilmtk.__version__)"
   ]
  },
  {
   "cell_type": "code",
   "execution_count": 14,
   "metadata": {},
   "outputs": [
    {
     "name": "stdout",
     "output_type": "stream",
     "text": [
      "0.2.5.dev-7ed4bab\n"
     ]
    }
   ],
   "source": [
    "import nilm_metadata\n",
    "print(nilm_metadata.__version__)"
   ]
  },
  {
   "cell_type": "code",
   "execution_count": 15,
   "metadata": {},
   "outputs": [
    {
     "name": "stdout",
     "output_type": "stream",
     "text": [
      "0.1.2.dev1+git.0dd2ef5\n"
     ]
    }
   ],
   "source": [
    "import nilmtk_contrib\n",
    "print(nilmtk_contrib.__version__)"
   ]
  },
  {
   "cell_type": "markdown",
   "metadata": {},
   "source": [
    "Importación de diferentes algoritmos para desagregaciones"
   ]
  },
  {
   "cell_type": "code",
   "execution_count": 16,
   "metadata": {},
   "outputs": [],
   "source": [
    "from nilmtk.disaggregate import Hart85\n",
    "from nilmtk.disaggregate import Mean\n",
    "from nilmtk.disaggregate import CO\n",
    "from nilmtk.disaggregate import FHMMExact\n"
   ]
  },
  {
   "cell_type": "code",
   "execution_count": 17,
   "metadata": {},
   "outputs": [],
   "source": [
    "import nilm_metadata"
   ]
  },
  {
   "cell_type": "markdown",
   "metadata": {},
   "source": [
    "#  Dataset "
   ]
  },
  {
   "cell_type": "code",
   "execution_count": 18,
   "metadata": {},
   "outputs": [
    {
     "data": {
      "text/html": [
       "<ul><li><strong>name</strong>: DSUAL</li><li><strong>long_name</strong>: The Reference Energy Disaggregation Data set of the ALmeria University</li><li><strong>creators</strong>: crn56</li><li><strong>publication_date</strong>: 2023</li><li><strong>institution</strong>: None</li><li><strong>contact</strong>: crn565@inlumine.ual.es</li><li><strong>description</strong>: None</li><li><strong>subject</strong>: Disaggregated power demand from domestic buildings.</li><li><strong>number_of_buildings</strong>: 1</li><li><strong>timezone</strong>: Europe/Berlin</li><li><strong>geo_location</strong>: <ul><li><strong>locality</strong>: Almeria</li><li><strong>country</strong>: ES</li><li><strong>latitude</strong>: 36.83814</li><li><strong>longitude</strong>: -2.45974</li></ul></li><li><strong>related_documents</strong>: None</li><li><strong>meter_devices</strong>: <ul><li><strong>OZM</strong>: <ul><li><strong>model</strong>: OZM</li><li><strong>manufacturer</strong>: ual</li><li><strong>manufacturer_url</strong>: <a href=\"https://openzmeter.com/\">https://openzmeter.com/</a></li><li><strong>description</strong>: Multifunction meter for feeders</li><li><strong>sample_period</strong>: 60</li><li><strong>max_sample_period</strong>: 300</li><li><strong>measurements</strong>: <ul><li>{'physical_quantity': 'power', 'type': 'active', 'upper_limit': 10000, 'lower_limit': 0}</li><li>{'physical_quantity': 'frequency', 'type': None, 'upper_limit': 70, 'lower_limit': 0}</li><li>{'physical_quantity': 'voltage', 'type': None, 'upper_limit': 270, 'lower_limit': 0}</li><li>{'physical_quantity': 'pf', 'type': None, 'upper_limit': 1, 'lower_limit': 0}</li><li>{'physical_quantity': 'current', 'type': None, 'upper_limit': 100, 'lower_limit': 0}</li></ul></li></ul></li></ul></li></ul>"
      ],
      "text/plain": [
       "<IPython.core.display.HTML object>"
      ]
     },
     "metadata": {},
     "output_type": "display_data"
    }
   ],
   "source": [
    "\n",
    "ompm = DataSet('ualm2.h5') #define the dataset\n",
    "print_dict(ompm.metadata)  #metadata  of the dataset"
   ]
  },
  {
   "cell_type": "code",
   "execution_count": 19,
   "metadata": {},
   "outputs": [
    {
     "data": {
      "text/plain": [
       "TimeFrame(start='2023-02-24 14:47:10.508000+01:00', end='2023-02-24 20:03:54.554000+01:00', empty=False)"
      ]
     },
     "execution_count": 19,
     "metadata": {},
     "output_type": "execute_result"
    }
   ],
   "source": [
    "elec = ompm.buildings[1].elec  # Access all the meters (electricity data) of building 1 in the dataset\n",
    "elec.get_timeframe()           # Retrieve the timeframe (start and end timestamps) of the electricity data\n"
   ]
  },
  {
   "cell_type": "code",
   "execution_count": 1,
   "metadata": {},
   "outputs": [
    {
     "name": "stdout",
     "output_type": "stream",
     "text": [
      "Available appliances: [Appliance(type='fryer', instance=1), Appliance(type='incandescent lamp', instance=1), Appliance(type='fan', instance=1), Appliance(type='laptop computer', instance=1), Appliance(type='LED lamp', instance=1)]\n",
      "Available power metrics: ['active']\n",
      "Appliance(type='fryer', instance=1)\n",
      "Appliance(type='incandescent lamp', instance=1)\n",
      "Appliance(type='fan', instance=1)\n",
      "Appliance(type='laptop computer', instance=1)\n",
      "Appliance(type='LED lamp', instance=1)\n"
     ]
    }
   ],
   "source": [
    "from nilmtk import DataSet  # Import the DataSet class from the nilmtk library\n",
    "\n",
    "ds = DataSet(\"ualm2.h5\")  # Load the dataset from the file 'ualm2.h5'\n",
    "elec = ds.buildings[1].elec  # Access the electricity meter data for building 1\n",
    "\n",
    "print(\"Available appliances:\", elec.appliances)  # Print the list of available appliances\n",
    "print(\"Available power metrics:\", elec.available_power_ac_types())  # Print the available power metrics (e.g., active, reactive power)\n",
    "\n",
    "ds.store.close()  # Close the dataset to free resources\n",
    "\n",
    "\n",
    "from nilmtk import DataSet  # Import the DataSet class again (can be omitted if already imported)\n",
    "\n",
    "ds = DataSet('ualm2.h5')  # Load the dataset again from the same file\n",
    "for app in ds.buildings[1].elec.appliances:  # Iterate over each appliance in building 1's electricity meter\n",
    "    print(app)  # Print the appliance object (usually shows type and identifier)\n"
   ]
  },
  {
   "cell_type": "code",
   "execution_count": 21,
   "metadata": {},
   "outputs": [
    {
     "name": "stdout",
     "output_type": "stream",
     "text": [
      "Appliance(type='laptop computer', instance=1)\n",
      "Appliance(type='incandescent lamp', instance=1)\n",
      "Appliance(type='LED lamp', instance=1)\n",
      "Appliance(type='fan', instance=1)\n",
      "Appliance(type='fryer', instance=1)\n"
     ]
    }
   ],
   "source": [
    "from nilmtk import DataSet  # Import the DataSet class from the nilmtk library\n",
    "\n",
    "ds = DataSet('ualm2.h5')  # Load the dataset from the file 'ualm2.h5'\n",
    "\n",
    "# Iterate over each appliance in the electricity meter of building 1\n",
    "for app in ds.buildings[1].elec.appliances:\n",
    "    print(app)  # Print the appliance object (usually shows appliance type and identifier)\n"
   ]
  },
  {
   "cell_type": "code",
   "execution_count": 22,
   "metadata": {},
   "outputs": [
    {
     "name": "stdout",
     "output_type": "stream",
     "text": [
      "('laptop computer', 1)\n",
      "('incandescent lamp', 1)\n",
      "('LED lamp', 1)\n",
      "('fan', 1)\n",
      "('fryer', 1)\n"
     ]
    }
   ],
   "source": [
    "from nilmtk import DataSet  # Import the DataSet class from the nilmtk library\n",
    "\n",
    "dataset = DataSet('ualm2.h5')  # Load the dataset from the file 'ualm2.h5'\n",
    "elec = dataset.buildings[1].elec  # Access the electricity meter data for building 1\n",
    "\n",
    "# Get the list of appliances\n",
    "for appliance in elec.appliances:\n",
    "    print(appliance.label())  # Print the label (name) of each appliance\n"
   ]
  },
  {
   "cell_type": "code",
   "execution_count": 23,
   "metadata": {},
   "outputs": [
    {
     "name": "stdout",
     "output_type": "stream",
     "text": [
      "Appliance: {'parent': 'computer', 'min_on_duration': 20, 'min_off_duration': 20, 'type': 'laptop computer', 'n_ancestors': 3, 'categories': {'traditional': 'ICT', 'size': 'small', 'electrical': ['SMPS'], 'google_shopping': ['laptops', 'computers', 'electronics']}, 'additional_properties': {'cpu': {'type': 'string'}}, 'control': ['manual', 'timer']}, Identifier: ApplianceID(type='laptop computer', instance=1)\n",
      "Appliance: {'parent': 'lamp', 'type': 'incandescent lamp', 'n_ancestors': 3, 'categories': {'electrical': ['lighting', 'incandescent']}, 'subtypes': ['halogen']}, Identifier: ApplianceID(type='incandescent lamp', instance=1)\n",
      "Appliance: {'parent': 'lamp', 'type': 'LED lamp', 'n_ancestors': 3, 'categories': {'electrical': ['lighting', 'LED']}}, Identifier: ApplianceID(type='LED lamp', instance=1)\n",
      "Appliance: {'parent': 'motor', 'type': 'fan', 'n_ancestors': 2, 'categories': {'electrical': ['single-phase induction motor'], 'traditional': 'consumer electronics', 'size': 'small', 'google_shopping': ['electronics']}, 'subtypes': ['desk', 'ceiling', 'extractor', 'single-room MVHR']}, Identifier: ApplianceID(type='fan', instance=1)\n",
      "Appliance: {'parent': 'small resistive cooking appliance', 'min_on_duration': 20, 'min_off_duration': 20, 'type': 'fryer', 'n_ancestors': 3, 'categories': {'traditional': 'cooking', 'size': 'small', 'google_shopping': ['kitchen and dining', 'kitchen appliances'], 'electrical': ['resistive']}, 'control': ['manual'], 'distributions': {'rooms': [{'distribution_of_data': {'categories': ['kitchen', 'utility'], 'values': [0.7, 0.1]}, 'source': 'subjective', 'from_appliance_type': 'small cooking appliance', 'distance': 2}]}}, Identifier: ApplianceID(type='fryer', instance=1)\n"
     ]
    }
   ],
   "source": [
    "# Inspect the available appliances\n",
    "from nilmtk import DataSet  # Import the DataSet class from the nilmtk library\n",
    "\n",
    "# Open the dataset\n",
    "ds = DataSet('ualm2.h5')\n",
    "\n",
    "# Iterate over the available appliances\n",
    "for appliance in ds.buildings[1].elec.appliances:\n",
    "    print(f\"Appliance: {appliance.type}, Identifier: {appliance.identifier}\")  # Print the appliance type and its identifier\n",
    "\n",
    "# Close the dataset\n",
    "ds.store.close()\n"
   ]
  },
  {
   "cell_type": "code",
   "execution_count": 24,
   "metadata": {},
   "outputs": [
    {
     "name": "stdout",
     "output_type": "stream",
     "text": [
      "[Appliance(type='laptop computer', instance=1), Appliance(type='incandescent lamp', instance=1), Appliance(type='LED lamp', instance=1), Appliance(type='fan', instance=1), Appliance(type='fryer', instance=1)]\n"
     ]
    }
   ],
   "source": [
    "from nilmtk import DataSet  # Import the DataSet class from the nilmtk library\n",
    "\n",
    "ds = DataSet('ualm2.h5')  # Load the dataset from the file 'ualm2.h5'\n",
    "\n",
    "print(ds.buildings[1].elec.appliances)  # Print the list of appliances available in building 1's electricity meter\n",
    "\n"
   ]
  },
  {
   "cell_type": "markdown",
   "metadata": {},
   "source": [
    "Metrics not supported in nilmtk_contrib:\n",
    "\n",
    "-mneap\n",
    "\n",
    "-f1\n",
    "\n",
    "-precision\n",
    "\n",
    "-recall\n",
    "\n",
    "-accuracy\n",
    "\n",
    "-eae"
   ]
  },
  {
   "cell_type": "markdown",
   "metadata": {},
   "source": [
    "#  ALGORITHMS INCLUDED IN NILMTK (not included in nilmtk-contrib)"
   ]
  },
  {
   "cell_type": "code",
   "execution_count": 25,
   "metadata": {},
   "outputs": [],
   "source": [
    "from nilmtk.disaggregate import Hart85  # Import the Hart85 disaggregation algorithm from nilmtk\n",
    "from nilmtk.disaggregate import Mean    # Import the Mean disaggregation algorithm from nilmtk\n",
    "from nilmtk.disaggregate import CO      # Import the Combinatorial Optimization (CO) disaggregation algorithm from nilmtk\n",
    "from nilmtk.disaggregate import FHMMExact  # Import the Exact Factorial Hidden Markov Model (FHMMExact) disaggregation algorithm from nilmtk\n",
    "\n",
    "\n"
   ]
  },
  {
   "cell_type": "code",
   "execution_count": 26,
   "metadata": {},
   "outputs": [
    {
     "name": "stdout",
     "output_type": "stream",
     "text": [
      "{'name': 'DSUAL', 'long_name': 'The Reference Energy Disaggregation Data set of the ALmeria University', 'creators': 'crn56', 'publication_date': 2023, 'institution': None, 'contact': 'crn565@inlumine.ual.es', 'description': None, 'subject': 'Disaggregated power demand from domestic buildings.', 'number_of_buildings': 1, 'timezone': 'Europe/Berlin', 'geo_location': {'locality': 'Almeria', 'country': 'ES', 'latitude': 36.83814, 'longitude': -2.45974}, 'related_documents': None, 'meter_devices': {'OZM': {'model': 'OZM', 'manufacturer': 'ual', 'manufacturer_url': 'https://openzmeter.com/', 'description': 'Multifunction meter for feeders', 'sample_period': 60, 'max_sample_period': 300, 'measurements': [{'physical_quantity': 'power', 'type': 'active', 'upper_limit': 10000, 'lower_limit': 0}, {'physical_quantity': 'frequency', 'type': None, 'upper_limit': 70, 'lower_limit': 0}, {'physical_quantity': 'voltage', 'type': None, 'upper_limit': 270, 'lower_limit': 0}, {'physical_quantity': 'pf', 'type': None, 'upper_limit': 1, 'lower_limit': 0}, {'physical_quantity': 'current', 'type': None, 'upper_limit': 100, 'lower_limit': 0}]}}}\n"
     ]
    }
   ],
   "source": [
    "from nilmtk import DataSet  # Import the DataSet class from the nilmtk library\n",
    "\n",
    "data = DataSet('ualm2.h5')  # Load the dataset from the file 'ualm2.h5'\n",
    "\n",
    "print(data.metadata)  # Check if it returns a dictionary containing metadata about the dataset\n",
    "\n"
   ]
  },
  {
   "cell_type": "code",
   "execution_count": 2,
   "metadata": {},
   "outputs": [
    {
     "name": "stdout",
     "output_type": "stream",
     "text": [
      "Keys found in the HDF5 file:\n",
      "/building1/elec/meter1\n",
      "/building1/elec/meter2\n",
      "/building1/elec/meter3\n",
      "/building1/elec/meter4\n",
      "/building1/elec/meter5\n",
      "/building1/elec/meter6\n"
     ]
    }
   ],
   "source": [
    "import pandas as pd  # Import the pandas library\n",
    "\n",
    "input_file = 'ualm2.h5'  # Change to your actual file name\n",
    "\n",
    "# Open the HDF5 file in read mode using pandas HDFStore\n",
    "with pd.HDFStore(input_file, mode='r') as store:\n",
    "    print(\"Keys found in the HDF5 file:\")\n",
    "    # Iterate over all keys (datasets/groups) in the HDF5 file and print them\n",
    "    for key in store.keys():\n",
    "        print(key)\n"
   ]
  },
  {
   "cell_type": "markdown",
   "metadata": {},
   "source": [
    "# Combinatorial algorithm (CO)\n",
    "\n"
   ]
  },
  {
   "cell_type": "code",
   "execution_count": 22,
   "metadata": {},
   "outputs": [
    {
     "name": "stdout",
     "output_type": "stream",
     "text": [
      "Joint Testing for all algorithms\n",
      "Loading data for  DSUAL  dataset\n",
      "Dropping missing values\n",
      "Generating predictions for : CO\n",
      "...............CO disaggregate_chunk running.............\n",
      "............  mae  ..............\n",
      "          CO\n",
      "2   6.893947\n",
      "3   7.592836\n",
      "4  10.462187\n",
      "5  16.531250\n",
      "6   3.968726\n",
      "............  rmse  ..............\n",
      "          CO\n",
      "2  10.085014\n",
      "3   9.094914\n",
      "4  18.417384\n",
      "5  19.662517\n",
      "6   7.973530\n",
      "............  f1score  ..............\n",
      "         CO\n",
      "2  0.894804\n",
      "3  0.846818\n",
      "4  0.920720\n",
      "5  0.000000\n",
      "6  0.842150\n",
      "............  nde  ..............\n",
      "         CO\n",
      "2  0.425783\n",
      "3  0.617315\n",
      "4  0.440901\n",
      "5       inf\n",
      "6  0.573085\n",
      "Runtime: 1.49 seconds\n"
     ]
    }
   ],
   "source": [
    "# First, let's inspect the available appliances\n",
    "from nilmtk import DataSet\n",
    "\n",
    "\n",
    "\n",
    "# Then modify the experiment configuration\n",
    "from nilmtk.api import API\n",
    "from nilmtk.disaggregate import Hart85, Mean, CO, FHMMExact\n",
    "import warnings\n",
    "warnings.filterwarnings(\"ignore\")\n",
    "\n",
    "import time\n",
    "# Inicio de medición\n",
    "start_time = time.time()\n",
    "\n",
    "\n",
    "experiment1 = {\n",
    "    'power': {\n",
    "    'mains': ['active'],\n",
    "    'appliance': ['active'],\n",
    "    'type': 'active'  # not use 'apparent'\n",
    "    },\n",
    "    'sample_rate':1, # 1 second of sampling\n",
    "      \n",
    "     # 'appliances': ['Electric furnace', 'Microwave','Television','Incandescent Lamp','Vacuum cleaner','Electric space heater','Electric shower heater','Fan','Fridge','Freezer'],\n",
    "      'appliances': [2,3,4,5,6],  # all of the appliances\n",
    "      'methods': {\n",
    "        'CO': CO({})\n",
    "          #'methods': {\"CO\": CO({'on_power_threshold': 100})},#ok\n",
    "    },\n",
    "    'train': {\n",
    "        'datasets': {\n",
    "            'DSUAL': {\n",
    "                'path': 'ualm2.h5',\n",
    "                'buildings': {\n",
    "                    1: {\n",
    "                        'start_time': '2023-02-24 14:17:00',\n",
    "                        'end_time': '2023-02-24 17:40:00'\n",
    "                    }\n",
    "                }\n",
    "            }\n",
    "        }\n",
    "    },\n",
    "    'test': {\n",
    "        'datasets': {\n",
    "            'DSUAL': {\n",
    "                'path': 'ualm2.h5',\n",
    "                'buildings': {\n",
    "                    1: {\n",
    "                        'start_time': '2023-02-24 18:51:00',\n",
    "                        'end_time': '2023-02-24 20:03:00'\n",
    "                    }\n",
    "                }\n",
    "            }\n",
    "        },\n",
    "        'metrics': ['mae', 'rmse', 'f1score','nde'],\n",
    "    }\n",
    "}\n",
    "\n",
    "\n",
    "# Execute the experiment\n",
    "api_results_experiment_1 = API(experiment1)\n",
    "\n",
    "\n",
    "#End of the measurement\n",
    "execution_time = time.time() - start_time\n",
    "print(f\"Runtime: {execution_time:.2f} seconds\")"
   ]
  },
  {
   "cell_type": "code",
   "execution_count": 23,
   "metadata": {},
   "outputs": [
    {
     "name": "stdout",
     "output_type": "stream",
     "text": [
      "Buildings disponibles: odict_keys([1])\n",
      "Columnas disponibles para mains:\n",
      "[('pf', None), ('current', None), ('voltage', None), ('frequency', None), ('power', 'active')]\n"
     ]
    }
   ],
   "source": [
    "from nilmtk import DataSet\n",
    "\n",
    "data = DataSet(\"ualm2.h5\")\n",
    "print(\"Buildings disponibles:\", data.buildings.keys())\n",
    "\n",
    "elec = data.buildings[1].elec\n",
    "print(\"Columnas disponibles para mains:\")\n",
    "print(elec.mains().available_columns())\n"
   ]
  },
  {
   "cell_type": "markdown",
   "metadata": {},
   "source": [
    "# Algoritmo MEAN"
   ]
  },
  {
   "cell_type": "code",
   "execution_count": 25,
   "metadata": {},
   "outputs": [
    {
     "name": "stdout",
     "output_type": "stream",
     "text": [
      "Joint Testing for all algorithms\n",
      "Loading data for  DSUAL  dataset\n",
      "Dropping missing values\n",
      "Generating predictions for : Mean\n",
      "............  mae  ..............\n",
      "        Mean\n",
      "2  12.077847\n",
      "3   7.886427\n",
      "4  30.969242\n",
      "5   5.214465\n",
      "6   9.790408\n",
      "............  rmse  ..............\n",
      "        Mean\n",
      "2  12.287081\n",
      "3   8.728810\n",
      "4  33.892921\n",
      "5   5.214465\n",
      "6  11.397045\n",
      "............  f1score  ..............\n",
      "       Mean\n",
      "2  0.869702\n",
      "3  0.000000\n",
      "4  0.000000\n",
      "5  0.000000\n",
      "6  0.000000\n",
      "............  nde  ..............\n",
      "       Mean\n",
      "2  0.518753\n",
      "3  0.592466\n",
      "4  0.811376\n",
      "5       inf\n",
      "6  0.819145\n",
      "Runtime: 0.58 seconds\n"
     ]
    }
   ],
   "source": [
    "#First, let's inspect the available appliances\n",
    "from nilmtk import DataSet\n",
    "\n",
    "\n",
    "\n",
    "# Then modify the experiment configuration\n",
    "from nilmtk.api import API\n",
    "from nilmtk.disaggregate import Hart85, Mean, CO, FHMMExact\n",
    "import warnings\n",
    "warnings.filterwarnings(\"ignore\")\n",
    "\n",
    "import time\n",
    "# Inicio de medición\n",
    "start_time = time.time()\n",
    "\n",
    "\n",
    "experiment1 = {\n",
    "    'power': {\n",
    "    'mains': ['active'],\n",
    "    'appliance': ['active'],\n",
    "    'type': 'active'  # not use 'apparent'\n",
    "    },\n",
    "    'sample_rate':1, # only 1 second of sampling\n",
    "      \n",
    "     # 'appliances': ['Electric furnace', 'Microwave','Television','Incandescent Lamp','Vacuum cleaner','Electric space heater','Electric shower heater','Fan','Fridge','Freezer'],\n",
    "      'appliances': [2,3,4,5,6],  # all of the appliances\n",
    "       'methods': {\n",
    "        'Mean': Mean(params={'on_power_threshold': 0})  # without filter\n",
    "       },\n",
    "    'train': {\n",
    "        'datasets': {\n",
    "            'DSUAL': {\n",
    "                'path': 'ualm2.h5',\n",
    "                'buildings': {\n",
    "                    1: {\n",
    "                        'start_time': '2023-02-24 14:17:00',\n",
    "                        'end_time': '2023-02-24 17:40:00'\n",
    "                    }\n",
    "                }\n",
    "            }\n",
    "        }\n",
    "    },\n",
    "    'test': {\n",
    "        'datasets': {\n",
    "            'DSUAL': {\n",
    "                'path': 'ualm2.h5',\n",
    "                'buildings': {\n",
    "                    1: {\n",
    "                        'start_time': '2023-02-24 18:51:00',\n",
    "                        'end_time': '2023-02-24 20:03:00'\n",
    "                    }\n",
    "                }\n",
    "            }\n",
    "        },\n",
    "        'metrics': ['mae', 'rmse', 'f1score','nde'],\n",
    "    }\n",
    "}\n",
    "\n",
    "\n",
    "# Execute the experiment\n",
    "api_results_experiment_1 = API(experiment1)\n",
    "\n",
    "\n",
    "#End of the measurement\n",
    "execution_time = time.time() - start_time\n",
    "print(f\"Runtime: {execution_time:.2f} seconds\")"
   ]
  },
  {
   "cell_type": "markdown",
   "metadata": {},
   "source": [
    "#  Hart85"
   ]
  },
  {
   "cell_type": "code",
   "execution_count": 29,
   "metadata": {},
   "outputs": [
    {
     "name": "stdout",
     "output_type": "stream",
     "text": [
      "Started training for  Hart85\n",
      "Joint training for  Hart85\n",
      "............... Loading Data for training ...................\n",
      "Loading data for  DSUAL  dataset\n",
      "Loading building ...  1\n",
      "Dropping missing values\n",
      "...........................Hart_85 Partial Fit Running...............\n",
      "Finding Edges, please wait ...\n",
      "Edge detection complete.\n",
      "Creating transition frame ...\n",
      "Transition frame created.\n",
      "Creating states frame ...\n",
      "States frame created.\n",
      "Finished.\n",
      ".........................Hart_85 Partial Fit End....................\n"
     ]
    },
    {
     "ename": "ValueError",
     "evalue": "Wrong number of items passed 4, placement implies 0",
     "output_type": "error",
     "traceback": [
      "\u001b[0;31m---------------------------------------------------------------------------\u001b[0m",
      "\u001b[0;31mValueError\u001b[0m                                Traceback (most recent call last)",
      "\u001b[0;32m/tmp/ipykernel_16055/1719675556.py\u001b[0m in \u001b[0;36m<module>\u001b[0;34m\u001b[0m\n\u001b[1;32m     58\u001b[0m \u001b[0;34m\u001b[0m\u001b[0m\n\u001b[1;32m     59\u001b[0m \u001b[0;31m# Execute the experiment\u001b[0m\u001b[0;34m\u001b[0m\u001b[0;34m\u001b[0m\u001b[0;34m\u001b[0m\u001b[0m\n\u001b[0;32m---> 60\u001b[0;31m \u001b[0mapi_results_experiment_1\u001b[0m \u001b[0;34m=\u001b[0m \u001b[0mAPI\u001b[0m\u001b[0;34m(\u001b[0m\u001b[0mexperiment1\u001b[0m\u001b[0;34m)\u001b[0m\u001b[0;34m\u001b[0m\u001b[0;34m\u001b[0m\u001b[0m\n\u001b[0m\u001b[1;32m     61\u001b[0m \u001b[0;34m\u001b[0m\u001b[0m\n\u001b[1;32m     62\u001b[0m \u001b[0;34m\u001b[0m\u001b[0m\n",
      "\u001b[0;32m~/nilmtk_env/lib/python3.7/site-packages/nilmtk/api.py\u001b[0m in \u001b[0;36m__init__\u001b[0;34m(self, params)\u001b[0m\n\u001b[1;32m     44\u001b[0m         \u001b[0mself\u001b[0m\u001b[0;34m.\u001b[0m\u001b[0mDROP_ALL_NANS\u001b[0m \u001b[0;34m=\u001b[0m \u001b[0mparams\u001b[0m\u001b[0;34m.\u001b[0m\u001b[0mget\u001b[0m\u001b[0;34m(\u001b[0m\u001b[0;34m\"DROP_ALL_NANS\"\u001b[0m\u001b[0;34m,\u001b[0m \u001b[0;32mTrue\u001b[0m\u001b[0;34m)\u001b[0m\u001b[0;34m\u001b[0m\u001b[0;34m\u001b[0m\u001b[0m\n\u001b[1;32m     45\u001b[0m         \u001b[0mself\u001b[0m\u001b[0;34m.\u001b[0m\u001b[0msite_only\u001b[0m \u001b[0;34m=\u001b[0m \u001b[0mparams\u001b[0m\u001b[0;34m.\u001b[0m\u001b[0mget\u001b[0m\u001b[0;34m(\u001b[0m\u001b[0;34m'site_only'\u001b[0m\u001b[0;34m,\u001b[0m\u001b[0;32mFalse\u001b[0m\u001b[0;34m)\u001b[0m\u001b[0;34m\u001b[0m\u001b[0;34m\u001b[0m\u001b[0m\n\u001b[0;32m---> 46\u001b[0;31m         \u001b[0mself\u001b[0m\u001b[0;34m.\u001b[0m\u001b[0mexperiment\u001b[0m\u001b[0;34m(\u001b[0m\u001b[0;34m)\u001b[0m\u001b[0;34m\u001b[0m\u001b[0;34m\u001b[0m\u001b[0m\n\u001b[0m\u001b[1;32m     47\u001b[0m \u001b[0;34m\u001b[0m\u001b[0m\n\u001b[1;32m     48\u001b[0m \u001b[0;34m\u001b[0m\u001b[0m\n",
      "\u001b[0;32m~/nilmtk_env/lib/python3.7/site-packages/nilmtk/api.py\u001b[0m in \u001b[0;36mexperiment\u001b[0;34m(self)\u001b[0m\n\u001b[1;32m     89\u001b[0m             \u001b[0;32melse\u001b[0m\u001b[0;34m:\u001b[0m\u001b[0;34m\u001b[0m\u001b[0;34m\u001b[0m\u001b[0m\n\u001b[1;32m     90\u001b[0m                 \u001b[0mprint\u001b[0m \u001b[0;34m(\u001b[0m\u001b[0;34m\"Joint training for \"\u001b[0m\u001b[0;34m,\u001b[0m\u001b[0mclf\u001b[0m\u001b[0;34m.\u001b[0m\u001b[0mMODEL_NAME\u001b[0m\u001b[0;34m)\u001b[0m\u001b[0;34m\u001b[0m\u001b[0;34m\u001b[0m\u001b[0m\n\u001b[0;32m---> 91\u001b[0;31m                 \u001b[0mself\u001b[0m\u001b[0;34m.\u001b[0m\u001b[0mtrain_jointly\u001b[0m\u001b[0;34m(\u001b[0m\u001b[0mclf\u001b[0m\u001b[0;34m,\u001b[0m\u001b[0md\u001b[0m\u001b[0;34m)\u001b[0m\u001b[0;34m\u001b[0m\u001b[0;34m\u001b[0m\u001b[0m\n\u001b[0m\u001b[1;32m     92\u001b[0m \u001b[0;34m\u001b[0m\u001b[0m\n\u001b[1;32m     93\u001b[0m             \u001b[0mprint\u001b[0m \u001b[0;34m(\u001b[0m\u001b[0;34m\"Finished training for \"\u001b[0m\u001b[0;34m,\u001b[0m\u001b[0mclf\u001b[0m\u001b[0;34m.\u001b[0m\u001b[0mMODEL_NAME\u001b[0m\u001b[0;34m)\u001b[0m\u001b[0;34m\u001b[0m\u001b[0;34m\u001b[0m\u001b[0m\n",
      "\u001b[0;32m~/nilmtk_env/lib/python3.7/site-packages/nilmtk/api.py\u001b[0m in \u001b[0;36mtrain_jointly\u001b[0;34m(self, clf, d)\u001b[0m\n\u001b[1;32m    238\u001b[0m         \u001b[0mself\u001b[0m\u001b[0;34m.\u001b[0m\u001b[0mtrain_submeters\u001b[0m \u001b[0;34m=\u001b[0m \u001b[0mappliance_readings\u001b[0m\u001b[0;34m\u001b[0m\u001b[0;34m\u001b[0m\u001b[0m\n\u001b[1;32m    239\u001b[0m \u001b[0;34m\u001b[0m\u001b[0m\n\u001b[0;32m--> 240\u001b[0;31m         \u001b[0mclf\u001b[0m\u001b[0;34m.\u001b[0m\u001b[0mpartial_fit\u001b[0m\u001b[0;34m(\u001b[0m\u001b[0mself\u001b[0m\u001b[0;34m.\u001b[0m\u001b[0mtrain_mains\u001b[0m\u001b[0;34m,\u001b[0m\u001b[0mself\u001b[0m\u001b[0;34m.\u001b[0m\u001b[0mtrain_submeters\u001b[0m\u001b[0;34m)\u001b[0m\u001b[0;34m\u001b[0m\u001b[0;34m\u001b[0m\u001b[0m\n\u001b[0m\u001b[1;32m    241\u001b[0m \u001b[0;34m\u001b[0m\u001b[0m\n\u001b[1;32m    242\u001b[0m \u001b[0;34m\u001b[0m\u001b[0m\n",
      "\u001b[0;32m~/nilmtk_env/lib/python3.7/site-packages/nilmtk/disaggregate/hart_85.py\u001b[0m in \u001b[0;36mpartial_fit\u001b[0;34m(self, train_main, train_appliances, buffer_size, noise_level, state_threshold, min_tolerance, percent_tolerance, large_transition, **kwargs)\u001b[0m\n\u001b[1;32m    259\u001b[0m         self.pair_df = self.pair(\n\u001b[1;32m    260\u001b[0m             buffer_size, min_tolerance, percent_tolerance, large_transition)\n\u001b[0;32m--> 261\u001b[0;31m         \u001b[0mself\u001b[0m\u001b[0;34m.\u001b[0m\u001b[0mcentroids\u001b[0m \u001b[0;34m=\u001b[0m \u001b[0mhart85_means_shift_cluster\u001b[0m\u001b[0;34m(\u001b[0m\u001b[0mself\u001b[0m\u001b[0;34m.\u001b[0m\u001b[0mpair_df\u001b[0m\u001b[0;34m,\u001b[0m \u001b[0mcolumns\u001b[0m\u001b[0;34m)\u001b[0m\u001b[0;34m\u001b[0m\u001b[0;34m\u001b[0m\u001b[0m\n\u001b[0m\u001b[1;32m    262\u001b[0m \u001b[0;34m\u001b[0m\u001b[0m\n\u001b[1;32m    263\u001b[0m         \u001b[0mprint\u001b[0m\u001b[0;34m(\u001b[0m\u001b[0;34m'..............................Predicting Centroid Matching..........................'\u001b[0m\u001b[0;34m)\u001b[0m\u001b[0;34m\u001b[0m\u001b[0;34m\u001b[0m\u001b[0m\n",
      "\u001b[0;32m~/nilmtk_env/lib/python3.7/site-packages/nilmtk/feature_detectors/cluster.py\u001b[0m in \u001b[0;36mhart85_means_shift_cluster\u001b[0;34m(pair_buffer_df, columns)\u001b[0m\n\u001b[1;32m    146\u001b[0m     \u001b[0;32melif\u001b[0m \u001b[0;34m'active'\u001b[0m \u001b[0;32min\u001b[0m \u001b[0mpair_buffer_df\u001b[0m\u001b[0;34m.\u001b[0m\u001b[0mcolumns\u001b[0m\u001b[0;34m:\u001b[0m\u001b[0;34m\u001b[0m\u001b[0;34m\u001b[0m\u001b[0m\n\u001b[1;32m    147\u001b[0m         \u001b[0mcluster_df\u001b[0m\u001b[0;34m[\u001b[0m\u001b[0;34m'apparent'\u001b[0m\u001b[0;34m]\u001b[0m \u001b[0;34m=\u001b[0m \u001b[0mpair_buffer_df\u001b[0m\u001b[0;34m[\u001b[0m\u001b[0;34m'active'\u001b[0m\u001b[0;34m]\u001b[0m\u001b[0;34m\u001b[0m\u001b[0;34m\u001b[0m\u001b[0m\n\u001b[0;32m--> 148\u001b[0;31m     \u001b[0;32melse\u001b[0m\u001b[0;34m:\u001b[0m\u001b[0;34m\u001b[0m\u001b[0;34m\u001b[0m\u001b[0m\n\u001b[0m\u001b[1;32m    149\u001b[0m         \u001b[0;32mraise\u001b[0m \u001b[0mValueError\u001b[0m\u001b[0;34m(\u001b[0m\u001b[0;34m\"Hart85 requiere al menos la columna 'active'.\"\u001b[0m\u001b[0;34m)\u001b[0m\u001b[0;34m\u001b[0m\u001b[0;34m\u001b[0m\u001b[0m\n\u001b[1;32m    150\u001b[0m \u001b[0;34m\u001b[0m\u001b[0m\n",
      "\u001b[0;32m~/nilmtk_env/lib/python3.7/site-packages/pandas/core/series.py\u001b[0m in \u001b[0;36m__init__\u001b[0;34m(self, data, index, dtype, name, copy, fastpath)\u001b[0m\n\u001b[1;32m    314\u001b[0m                 \u001b[0mdata\u001b[0m \u001b[0;34m=\u001b[0m \u001b[0msanitize_array\u001b[0m\u001b[0;34m(\u001b[0m\u001b[0mdata\u001b[0m\u001b[0;34m,\u001b[0m \u001b[0mindex\u001b[0m\u001b[0;34m,\u001b[0m \u001b[0mdtype\u001b[0m\u001b[0;34m,\u001b[0m \u001b[0mcopy\u001b[0m\u001b[0;34m,\u001b[0m \u001b[0mraise_cast_failure\u001b[0m\u001b[0;34m=\u001b[0m\u001b[0;32mTrue\u001b[0m\u001b[0;34m)\u001b[0m\u001b[0;34m\u001b[0m\u001b[0;34m\u001b[0m\u001b[0m\n\u001b[1;32m    315\u001b[0m \u001b[0;34m\u001b[0m\u001b[0m\n\u001b[0;32m--> 316\u001b[0;31m                 \u001b[0mdata\u001b[0m \u001b[0;34m=\u001b[0m \u001b[0mSingleBlockManager\u001b[0m\u001b[0;34m(\u001b[0m\u001b[0mdata\u001b[0m\u001b[0;34m,\u001b[0m \u001b[0mindex\u001b[0m\u001b[0;34m,\u001b[0m \u001b[0mfastpath\u001b[0m\u001b[0;34m=\u001b[0m\u001b[0;32mTrue\u001b[0m\u001b[0;34m)\u001b[0m\u001b[0;34m\u001b[0m\u001b[0;34m\u001b[0m\u001b[0m\n\u001b[0m\u001b[1;32m    317\u001b[0m \u001b[0;34m\u001b[0m\u001b[0m\n\u001b[1;32m    318\u001b[0m         \u001b[0mgeneric\u001b[0m\u001b[0;34m.\u001b[0m\u001b[0mNDFrame\u001b[0m\u001b[0;34m.\u001b[0m\u001b[0m__init__\u001b[0m\u001b[0;34m(\u001b[0m\u001b[0mself\u001b[0m\u001b[0;34m,\u001b[0m \u001b[0mdata\u001b[0m\u001b[0;34m,\u001b[0m \u001b[0mfastpath\u001b[0m\u001b[0;34m=\u001b[0m\u001b[0;32mTrue\u001b[0m\u001b[0;34m)\u001b[0m\u001b[0;34m\u001b[0m\u001b[0;34m\u001b[0m\u001b[0m\n",
      "\u001b[0;32m~/nilmtk_env/lib/python3.7/site-packages/pandas/core/internals/managers.py\u001b[0m in \u001b[0;36m__init__\u001b[0;34m(self, block, axis, do_integrity_check, fastpath)\u001b[0m\n\u001b[1;32m   1514\u001b[0m \u001b[0;34m\u001b[0m\u001b[0m\n\u001b[1;32m   1515\u001b[0m         \u001b[0;32mif\u001b[0m \u001b[0;32mnot\u001b[0m \u001b[0misinstance\u001b[0m\u001b[0;34m(\u001b[0m\u001b[0mblock\u001b[0m\u001b[0;34m,\u001b[0m \u001b[0mBlock\u001b[0m\u001b[0;34m)\u001b[0m\u001b[0;34m:\u001b[0m\u001b[0;34m\u001b[0m\u001b[0;34m\u001b[0m\u001b[0m\n\u001b[0;32m-> 1516\u001b[0;31m             \u001b[0mblock\u001b[0m \u001b[0;34m=\u001b[0m \u001b[0mmake_block\u001b[0m\u001b[0;34m(\u001b[0m\u001b[0mblock\u001b[0m\u001b[0;34m,\u001b[0m \u001b[0mplacement\u001b[0m\u001b[0;34m=\u001b[0m\u001b[0mslice\u001b[0m\u001b[0;34m(\u001b[0m\u001b[0;36m0\u001b[0m\u001b[0;34m,\u001b[0m \u001b[0mlen\u001b[0m\u001b[0;34m(\u001b[0m\u001b[0maxis\u001b[0m\u001b[0;34m)\u001b[0m\u001b[0;34m)\u001b[0m\u001b[0;34m,\u001b[0m \u001b[0mndim\u001b[0m\u001b[0;34m=\u001b[0m\u001b[0;36m1\u001b[0m\u001b[0;34m)\u001b[0m\u001b[0;34m\u001b[0m\u001b[0;34m\u001b[0m\u001b[0m\n\u001b[0m\u001b[1;32m   1517\u001b[0m \u001b[0;34m\u001b[0m\u001b[0m\n\u001b[1;32m   1518\u001b[0m         \u001b[0mself\u001b[0m\u001b[0;34m.\u001b[0m\u001b[0mblocks\u001b[0m \u001b[0;34m=\u001b[0m \u001b[0mtuple\u001b[0m\u001b[0;34m(\u001b[0m\u001b[0;34m[\u001b[0m\u001b[0mblock\u001b[0m\u001b[0;34m]\u001b[0m\u001b[0;34m)\u001b[0m\u001b[0;34m\u001b[0m\u001b[0;34m\u001b[0m\u001b[0m\n",
      "\u001b[0;32m~/nilmtk_env/lib/python3.7/site-packages/pandas/core/internals/blocks.py\u001b[0m in \u001b[0;36mmake_block\u001b[0;34m(values, placement, klass, ndim, dtype, fastpath)\u001b[0m\n\u001b[1;32m   3282\u001b[0m         \u001b[0mvalues\u001b[0m \u001b[0;34m=\u001b[0m \u001b[0mDatetimeArray\u001b[0m\u001b[0;34m.\u001b[0m\u001b[0m_simple_new\u001b[0m\u001b[0;34m(\u001b[0m\u001b[0mvalues\u001b[0m\u001b[0;34m,\u001b[0m \u001b[0mdtype\u001b[0m\u001b[0;34m=\u001b[0m\u001b[0mdtype\u001b[0m\u001b[0;34m)\u001b[0m\u001b[0;34m\u001b[0m\u001b[0;34m\u001b[0m\u001b[0m\n\u001b[1;32m   3283\u001b[0m \u001b[0;34m\u001b[0m\u001b[0m\n\u001b[0;32m-> 3284\u001b[0;31m     \u001b[0;32mreturn\u001b[0m \u001b[0mklass\u001b[0m\u001b[0;34m(\u001b[0m\u001b[0mvalues\u001b[0m\u001b[0;34m,\u001b[0m \u001b[0mndim\u001b[0m\u001b[0;34m=\u001b[0m\u001b[0mndim\u001b[0m\u001b[0;34m,\u001b[0m \u001b[0mplacement\u001b[0m\u001b[0;34m=\u001b[0m\u001b[0mplacement\u001b[0m\u001b[0;34m)\u001b[0m\u001b[0;34m\u001b[0m\u001b[0;34m\u001b[0m\u001b[0m\n\u001b[0m\u001b[1;32m   3285\u001b[0m \u001b[0;34m\u001b[0m\u001b[0m\n\u001b[1;32m   3286\u001b[0m \u001b[0;34m\u001b[0m\u001b[0m\n",
      "\u001b[0;32m~/nilmtk_env/lib/python3.7/site-packages/pandas/core/internals/blocks.py\u001b[0m in \u001b[0;36m__init__\u001b[0;34m(self, values, placement, ndim)\u001b[0m\n\u001b[1;32m   2790\u001b[0m             \u001b[0mvalues\u001b[0m \u001b[0;34m=\u001b[0m \u001b[0mnp\u001b[0m\u001b[0;34m.\u001b[0m\u001b[0marray\u001b[0m\u001b[0;34m(\u001b[0m\u001b[0mvalues\u001b[0m\u001b[0;34m,\u001b[0m \u001b[0mdtype\u001b[0m\u001b[0;34m=\u001b[0m\u001b[0mobject\u001b[0m\u001b[0;34m)\u001b[0m\u001b[0;34m\u001b[0m\u001b[0;34m\u001b[0m\u001b[0m\n\u001b[1;32m   2791\u001b[0m \u001b[0;34m\u001b[0m\u001b[0m\n\u001b[0;32m-> 2792\u001b[0;31m         \u001b[0msuper\u001b[0m\u001b[0;34m(\u001b[0m\u001b[0;34m)\u001b[0m\u001b[0;34m.\u001b[0m\u001b[0m__init__\u001b[0m\u001b[0;34m(\u001b[0m\u001b[0mvalues\u001b[0m\u001b[0;34m,\u001b[0m \u001b[0mndim\u001b[0m\u001b[0;34m=\u001b[0m\u001b[0mndim\u001b[0m\u001b[0;34m,\u001b[0m \u001b[0mplacement\u001b[0m\u001b[0;34m=\u001b[0m\u001b[0mplacement\u001b[0m\u001b[0;34m)\u001b[0m\u001b[0;34m\u001b[0m\u001b[0;34m\u001b[0m\u001b[0m\n\u001b[0m\u001b[1;32m   2793\u001b[0m \u001b[0;34m\u001b[0m\u001b[0m\n\u001b[1;32m   2794\u001b[0m     \u001b[0;34m@\u001b[0m\u001b[0mproperty\u001b[0m\u001b[0;34m\u001b[0m\u001b[0;34m\u001b[0m\u001b[0m\n",
      "\u001b[0;32m~/nilmtk_env/lib/python3.7/site-packages/pandas/core/internals/blocks.py\u001b[0m in \u001b[0;36m__init__\u001b[0;34m(self, values, placement, ndim)\u001b[0m\n\u001b[1;32m    126\u001b[0m             raise ValueError(\n\u001b[1;32m    127\u001b[0m                 \u001b[0;34m\"Wrong number of items passed {val}, placement implies \"\u001b[0m\u001b[0;34m\u001b[0m\u001b[0;34m\u001b[0m\u001b[0m\n\u001b[0;32m--> 128\u001b[0;31m                 \u001b[0;34m\"{mgr}\"\u001b[0m\u001b[0;34m.\u001b[0m\u001b[0mformat\u001b[0m\u001b[0;34m(\u001b[0m\u001b[0mval\u001b[0m\u001b[0;34m=\u001b[0m\u001b[0mlen\u001b[0m\u001b[0;34m(\u001b[0m\u001b[0mself\u001b[0m\u001b[0;34m.\u001b[0m\u001b[0mvalues\u001b[0m\u001b[0;34m)\u001b[0m\u001b[0;34m,\u001b[0m \u001b[0mmgr\u001b[0m\u001b[0;34m=\u001b[0m\u001b[0mlen\u001b[0m\u001b[0;34m(\u001b[0m\u001b[0mself\u001b[0m\u001b[0;34m.\u001b[0m\u001b[0mmgr_locs\u001b[0m\u001b[0;34m)\u001b[0m\u001b[0;34m)\u001b[0m\u001b[0;34m\u001b[0m\u001b[0;34m\u001b[0m\u001b[0m\n\u001b[0m\u001b[1;32m    129\u001b[0m             )\n\u001b[1;32m    130\u001b[0m \u001b[0;34m\u001b[0m\u001b[0m\n",
      "\u001b[0;31mValueError\u001b[0m: Wrong number of items passed 4, placement implies 0"
     ]
    }
   ],
   "source": [
    "#First, let's inspect the available appliances\n",
    "from nilmtk import DataSet\n",
    "\n",
    "\n",
    "\n",
    "# Then modify the experiment configuration\n",
    "from nilmtk.api import API\n",
    "from nilmtk.disaggregate import Hart85, Mean, CO, FHMMExact\n",
    "import warnings\n",
    "warnings.filterwarnings(\"ignore\")\n",
    "\n",
    "import time\n",
    "# Inicio de medición\n",
    "start_time = time.time()\n",
    "\n",
    "\n",
    "experiment1 = {\n",
    "    'power': {\n",
    "    'mains': ['active'],\n",
    "    'appliance': ['active'],\n",
    "    'type': 'active'  # not use 'apparent'\n",
    "    },\n",
    "    'sample_rate':1, # 1 second of sampling\n",
    "      \n",
    "     # 'appliances': ['Electric furnace', 'Microwave','Television','Incandescent Lamp','Vacuum cleaner','Electric space heater','Electric shower heater','Fan','Fridge','Freezer'],\n",
    "      'appliances': [2,3,4,5,6],  # all of the appliances\n",
    "       'methods': {\n",
    "        'Hart85': Hart85(params={})  # Provide an empty dictionary as argument “params”\n",
    "       },\n",
    "    'train': {\n",
    "        'datasets': {\n",
    "            'DSUAL': {\n",
    "                'path': 'ualm2.h5',\n",
    "                'buildings': {\n",
    "                    1: {\n",
    "                        'start_time': '2023-02-24 14:17:10',\n",
    "                        'end_time': '2023-02-24 17:40:00'\n",
    "                    }\n",
    "                }\n",
    "            }\n",
    "        }\n",
    "    },\n",
    "    'test': {\n",
    "        'datasets': {\n",
    "            'DSUAL': {\n",
    "                'path': 'ualm2.h5',\n",
    "                'buildings': {\n",
    "                    1: {\n",
    "                        'start_time': '2023-02-24 18:51:00',\n",
    "                        'end_time': '2023-02-24 20:03:54'\n",
    "                    }\n",
    "                }\n",
    "            }\n",
    "        },\n",
    "        'metrics': ['mae', 'rmse', 'f1score','nde'],\n",
    "    }\n",
    "}\n",
    "\n",
    "\n",
    "# Execute the experiment\n",
    "api_results_experiment_1 = API(experiment1)\n",
    "\n",
    "\n",
    "#End of the measurement\n",
    "execution_time = time.time() - start_time\n",
    "print(f\"Runtime: {execution_time:.2f} seconds\")"
   ]
  },
  {
   "cell_type": "markdown",
   "metadata": {},
   "source": [
    "\n",
    "# EXPLICATION OF THE ERROR**ValueError: Wrong number of items passed 4, placement implies 0**\n",
    "\n",
    "\n",
    "\n",
    "This error comes from pandas when trying to create a Series, and it is occurring inside the function `hart85_means_shift_cluster()` of the Hart85 disaggregator. This suggests that Hart85 expects certain specific columns to be available, but it is not finding them.\n",
    "\n",
    "🎯 **Problem diagnosis**\n",
    "\n",
    "Hart85 requires at least 2 types of energy:\n",
    "\n",
    "- ('power', 'active') ✅\n",
    "- ('power', 'reactive') ❌ (probably missing in your file)\n",
    "\n",
    "The method `hart85_means_shift_cluster()` tries to cluster transitions of active/reactive power, but if it does not have enough columns, the code fails when trying to create a DataFrame with data that does not exist.\n",
    "\n",
    "**Final recommendation**\n",
    "\n",
    "⚠️ Hart85 requires both active and reactive power. If your dataset does not have ('power', 'reactive'), you simply cannot use Hart85 without errors.\n",
    "\n"
   ]
  },
  {
   "cell_type": "markdown",
   "metadata": {},
   "source": [
    "# FHMM_Exact"
   ]
  },
  {
   "cell_type": "code",
   "execution_count": 2,
   "metadata": {},
   "outputs": [
    {
     "name": "stdout",
     "output_type": "stream",
     "text": [
      "Joint Testing for all algorithms\n",
      "Loading data for  DSUAL  dataset\n",
      "Dropping missing values\n",
      "Generating predictions for : FHMMExact\n",
      "............  mae  ..............\n",
      "   FHMMExact\n",
      "2   9.717407\n",
      "3   7.614496\n",
      "4  30.626921\n",
      "5  13.111136\n",
      "6   2.536309\n",
      "............  rmse  ..............\n",
      "   FHMMExact\n",
      "2  15.676951\n",
      "3   8.564611\n",
      "4  33.612286\n",
      "5  15.783270\n",
      "6   6.051073\n",
      "............  f1score  ..............\n",
      "   FHMMExact\n",
      "2   0.762238\n",
      "3   0.838123\n",
      "4   0.816932\n",
      "5   0.000000\n",
      "6   0.901763\n",
      "............  nde  ..............\n",
      "   FHMMExact\n",
      "2   0.666520\n",
      "3   0.584846\n",
      "4   0.810810\n",
      "5        inf\n",
      "6   0.439321\n",
      "Runtime: 1.70 seconds\n"
     ]
    }
   ],
   "source": [
    "\n",
    "# First, let's inspect the available appliances\n",
    "from nilmtk import DataSet\n",
    "\n",
    "\n",
    "\n",
    "# Then modify the experiment configuration\n",
    "from nilmtk.api import API\n",
    "from nilmtk.disaggregate import Hart85, Mean, CO, FHMMExact\n",
    "import warnings\n",
    "warnings.filterwarnings(\"ignore\")\n",
    "\n",
    "\n",
    "# First, let's inspect the available appliances\n",
    "from nilmtk import DataSet\n",
    "\n",
    "\n",
    "\n",
    "# Then modify the experiment configuration\n",
    "from nilmtk.api import API\n",
    "from nilmtk.disaggregate import Hart85, Mean, CO, FHMMExact\n",
    "import warnings\n",
    "warnings.filterwarnings(\"ignore\")\n",
    "\n",
    "import time\n",
    "# Inicio de medición\n",
    "start_time = time.time()\n",
    "\n",
    "\n",
    "experiment1 = {\n",
    "    'power': {\n",
    "        'mains': ['active'],  # Simplify by using only active power\n",
    "        'appliance': ['active']\n",
    "    },\n",
    "    'sample_rate':1, #1  second of sampling\n",
    "      \n",
    "     # 'appliances': ['Electric furnace', 'Microwave','Television','Incandescent Lamp','Vacuum cleaner','Electric space heater','Electric shower heater','Fan','Fridge','Freezer'],\n",
    "      'appliances': [2,3,4,5,6],  # all of the appliances\n",
    "      'methods': {\n",
    "       'FHMMExact': FHMMExact(params={})  # Provide an empty dictionary as argument “params”.\n",
    "   'train': {\n",
    "        'datasets': {\n",
    "            'DSUAL': {\n",
    "                'path': 'ualm2.h5',\n",
    "                'buildings': {\n",
    "                    1: {\n",
    "                        'start_time': '2023-02-24 14:17:00',\n",
    "                        'end_time': '2023-02-24 17:40:00'\n",
    "                    }\n",
    "                }\n",
    "            }\n",
    "        }\n",
    "    },\n",
    "    'test': {\n",
    "        'datasets': {\n",
    "            'DSUAL': {\n",
    "                'path': 'ualm2.h5',\n",
    "                'buildings': {\n",
    "                    1: {\n",
    "                        'start_time': '2023-02-24 18:51:28',\n",
    "                        'end_time': '2023-02-24 20:03:54'\n",
    "                    }\n",
    "                }\n",
    "            }\n",
    "        },\n",
    "        'metrics': ['mae', 'rmse', 'f1score','nde'],\n",
    "    }\n",
    "}\n",
    "\n",
    "\n",
    "# Execute the experiment\n",
    "api_results_experiment_1 = API(experiment1)\n",
    "\n",
    "\n",
    "#End of the measurement\n",
    "execution_time = time.time() - start_time\n",
    "print(f\"Runtime: {execution_time:.2f} seconds\")\n"
   ]
  },
  {
   "cell_type": "markdown",
   "metadata": {},
   "source": [
    " # DEEP LEARNING ALGORITHMS\n",
    " \n",
    " THE PROBLEM IS SOLVED USING ONLY THE ACTIVE POWER\n"
   ]
  },
  {
   "cell_type": "markdown",
   "metadata": {},
   "source": [
    "## DAE "
   ]
  },
  {
   "cell_type": "markdown",
   "metadata": {},
   "source": [
    "##  graphic, harmonics ,without filter , 1 second"
   ]
  },
  {
   "cell_type": "code",
   "execution_count": 27,
   "metadata": {},
   "outputs": [
    {
     "name": "stdout",
     "output_type": "stream",
     "text": [
      "Joint Testing for all algorithms\n",
      "Loading data for  DSUAL  dataset\n",
      "Dropping missing values\n",
      "Generating predictions for : DAE\n",
      "............  mae  ..............\n",
      "            DAE\n",
      "2  6.798762e+07\n",
      "3  1.306088e+08\n",
      "4  5.253530e+07\n",
      "5  2.003308e+13\n",
      "6  1.727593e+09\n",
      "............  rmse  ..............\n",
      "            DAE\n",
      "2  4.426976e+08\n",
      "3  8.055541e+08\n",
      "4  2.977732e+08\n",
      "5  7.130438e+13\n",
      "6  9.307265e+09\n",
      "............  f1score  ..............\n",
      "        DAE\n",
      "2  0.270418\n",
      "3  0.225262\n",
      "4  0.505576\n",
      "5  0.000000\n",
      "6  0.000000\n",
      "............  nde  ..............\n",
      "            DAE\n",
      "2  1.521220e+07\n",
      "3  2.580757e+07\n",
      "4  1.220811e+07\n",
      "5  1.254053e+11\n",
      "6  3.426239e+09\n",
      "Runtime: 27.07 seconds\n"
     ]
    }
   ],
   "source": [
    "from nilmtk_contrib.disaggregate import DAE\n",
    "from nilmtk.api import API\n",
    "from nilmtk.disaggregate import Hart85, Mean, CO, FHMMExact\n",
    "import warnings\n",
    "warnings.filterwarnings(\"ignore\")\n",
    "import time\n",
    "\n",
    "start_time = time.time()\n",
    "\n",
    "experiment1 = {\n",
    "    'power': {\n",
    "        'mains': ['active'],\n",
    "        'appliance': ['active']\n",
    "    },\n",
    "    'sample_rate': 1,# 1 second of sampling\n",
    "\n",
    "    'appliances': [2,3,4,5,6],  # all of the appliances\n",
    "\n",
    "    'methods': {\n",
    "    'DAE': DAE({'window_size': 99})  #  window size of 99\n",
    "     },\n",
    "    'train': {\n",
    "        'datasets': {\n",
    "            'DSUAL': {\n",
    "                'path': 'dsual.h5',\n",
    "                'buildings': {\n",
    "                    1: {\n",
    "                        'start_time': '2022-02-02 10:16:00',\n",
    "                        'end_time': '2022-02-02 10:58:00'\n",
    "                    }\n",
    "                }\n",
    "            }\n",
    "        }\n",
    "    },\n",
    "\n",
    "    'test': {\n",
    "        'datasets': {\n",
    "            'DSUAL': {\n",
    "                'path': 'dsual.h5',\n",
    "                'buildings': {\n",
    "                    1: {\n",
    "                        'start_time': '2022-02-02 12:00:00',\n",
    "                        'end_time': '2022-02-02 12:58:00'\n",
    "                    }\n",
    "                }\n",
    "            }\n",
    "        },\n",
    "        'metrics': ['mae', 'rmse', 'f1score', 'nde'],\n",
    "    }\n",
    "}\n",
    "\n",
    "\n",
    "\n",
    "# Execute the experiment\n",
    "api_results_experiment_1 = API(experiment1)\n",
    "\n",
    "\n",
    "#End of the measurement\n",
    "execution_time = time.time() - start_time\n",
    "print(f\"Runtime: {execution_time:.2f} seconds\")\n"
   ]
  },
  {
   "cell_type": "markdown",
   "metadata": {},
   "source": [
    "# RNN"
   ]
  },
  {
   "cell_type": "code",
   "execution_count": 4,
   "metadata": {},
   "outputs": [
    {
     "name": "stdout",
     "output_type": "stream",
     "text": [
      "Joint Testing for all algorithms\n",
      "Loading data for  DSUAL  dataset\n",
      "Dropping missing values\n",
      "Generating predictions for : RNN\n",
      "............  mae  ..............\n",
      "         RNN\n",
      "2  13.545869\n",
      "3   8.224147\n",
      "4  31.386919\n",
      "5   5.231825\n",
      "6   9.691561\n",
      "............  rmse  ..............\n",
      "         RNN\n",
      "2  13.553578\n",
      "3   8.989236\n",
      "4  35.132393\n",
      "5   5.231832\n",
      "6  11.259581\n",
      "............  f1score  ..............\n",
      "        RNN\n",
      "2  0.862601\n",
      "3  0.000000\n",
      "4  0.000000\n",
      "5  0.000000\n",
      "6  0.000000\n",
      "............  nde  ..............\n",
      "        RNN\n",
      "2  0.576242\n",
      "3  0.613842\n",
      "4  0.847479\n",
      "5       inf\n",
      "6  0.817470\n",
      "Runtime: 2723.48 seconds\n"
     ]
    }
   ],
   "source": [
    "from nilmtk_contrib.disaggregate import RNN\n",
    "from nilmtk.api import API\n",
    "import warnings\n",
    "warnings.filterwarnings(\"ignore\")\n",
    "import time\n",
    "\n",
    "start_time = time.time()\n",
    "\n",
    "experiment1 = {\n",
    "    'power': {\n",
    "        'mains': ['active'],\n",
    "        'appliance': ['active'] #  only active power\n",
    "    },\n",
    "    'sample_rate': 1, # 1 second of sampling\n",
    "\n",
    "    'appliances': [2, 3, 4, 5, 6], #all of the appliances\n",
    "\n",
    "    'methods': {\n",
    "        'RNN': RNN({})  \n",
    "    },\n",
    "\n",
    "    'train': {\n",
    "        'datasets': {\n",
    "            'DSUAL': {\n",
    "                'path': 'ualm2.h5',\n",
    "                'buildings': {\n",
    "                    1: {\n",
    "                        'start_time': '2023-02-24 14:17:10',\n",
    "                        'end_time': '2023-02-24 17:40:00'\n",
    "                    }\n",
    "                }\n",
    "            }\n",
    "        }\n",
    "    },\n",
    "\n",
    "    'test': {\n",
    "        'datasets': {\n",
    "            'DSUAL': {\n",
    "                'path': 'ualm2.h5',\n",
    "                'buildings': {\n",
    "                    1: {\n",
    "                        'start_time': '2023-02-24 18:51:28',\n",
    "                        'end_time': '2023-02-24 20:03:54'\n",
    "                    }\n",
    "                }\n",
    "            }\n",
    "        },\n",
    "        'metrics': ['mae', 'rmse', 'f1score', 'nde'],\n",
    "    }\n",
    "}\n",
    "\n",
    "\n",
    "# Execute the experiment\n",
    "api_results_experiment_1 = API(experiment1)\n",
    "\n",
    "\n",
    "#End of the measurement\n",
    "execution_time = time.time() - start_time\n",
    "print(f\"Runtime: {execution_time:.2f} seconds\")\n"
   ]
  },
  {
   "cell_type": "markdown",
   "metadata": {},
   "source": [
    "# SEQ2POINT"
   ]
  },
  {
   "cell_type": "code",
   "execution_count": 5,
   "metadata": {},
   "outputs": [
    {
     "name": "stdout",
     "output_type": "stream",
     "text": [
      "Joint Testing for all algorithms\n",
      "Loading data for  DSUAL  dataset\n",
      "Dropping missing values\n",
      "Generating predictions for : Seq2Point\n",
      "............  mae  ..............\n",
      "   SEQ2POINT\n",
      "2  12.072227\n",
      "3   7.873420\n",
      "4  31.886066\n",
      "5   4.784479\n",
      "6   9.692645\n",
      "............  rmse  ..............\n",
      "   SEQ2POINT\n",
      "2  12.309233\n",
      "3   8.720504\n",
      "4  36.166956\n",
      "5   4.784494\n",
      "6  11.254167\n",
      "............  f1score  ..............\n",
      "   SEQ2POINT\n",
      "2   0.862601\n",
      "3   0.000000\n",
      "4   0.000000\n",
      "5   0.000000\n",
      "6   0.000000\n",
      "............  nde  ..............\n",
      "   SEQ2POINT\n",
      "2   0.523338\n",
      "3   0.595492\n",
      "4   0.872435\n",
      "5        inf\n",
      "6   0.817077\n",
      "Runtime: 841.65 seconds\n"
     ]
    }
   ],
   "source": [
    "from nilmtk_contrib.disaggregate.seq2point import Seq2Point\n",
    "from nilmtk.api import API\n",
    "import warnings\n",
    "import time\n",
    "\n",
    "warnings.filterwarnings(\"ignore\")\n",
    "\n",
    "\n",
    "#starting teh measurement\n",
    "\n",
    "start_time = time.time()\n",
    "\n",
    "# Create a instance correctly\n",
    "seq2point_model = Seq2Point({\n",
    "    'sequence_length': 99,\n",
    "    'n_epochs': 10,\n",
    "    'batch_size': 512\n",
    "})\n",
    "\n",
    "# Configuration of the  experiment\n",
    "experiment1 = {\n",
    "    'power': {\n",
    "        'mains': ['active'],\n",
    "        'appliance': ['active']\n",
    "    },\n",
    "    'sample_rate': 1,# 1 second of sampling\n",
    "    'appliances': [2, 3, 4, 5, 6], #all of the appliances\n",
    "    'methods': {\n",
    "        'SEQ2POINT': seq2point_model\n",
    "    },\n",
    "    'train': {\n",
    "        'datasets': {\n",
    "            'DSUAL': {\n",
    "                'path': 'ualm2.h5',\n",
    "                'buildings': {\n",
    "                    1: {\n",
    "                        'start_time': '2023-02-24 14:17:10',\n",
    "                        'end_time': '2023-02-24 17:40:00'\n",
    "                    }\n",
    "                }\n",
    "            }\n",
    "        }\n",
    "    },\n",
    "    'test': {\n",
    "        'datasets': {\n",
    "            'DSUAL': {\n",
    "                'path': 'ualm2.h5',\n",
    "                'buildings': {\n",
    "                    1: {\n",
    "                        'start_time': '2023-02-24 18:51:28',\n",
    "                        'end_time': '2023-02-24 20:03:54'\n",
    "                    }\n",
    "                }\n",
    "            }\n",
    "        },\n",
    "        'metrics': ['mae', 'rmse', 'f1score', 'nde'],\n",
    "    }\n",
    "}\n",
    "\n",
    "# Execute the experiment\n",
    "api_results_experiment_1 = API(experiment1)\n",
    "\n",
    "\n",
    "#End of the measurement\n",
    "execution_time = time.time() - start_time\n",
    "print(f\"Runtime: {execution_time:.2f} seconds\")\n"
   ]
  },
  {
   "cell_type": "markdown",
   "metadata": {},
   "source": [
    "# SEQ2SEQ"
   ]
  },
  {
   "cell_type": "code",
   "execution_count": 71,
   "metadata": {},
   "outputs": [
    {
     "name": "stdout",
     "output_type": "stream",
     "text": [
      "Joint Testing for all algorithms\n",
      "Loading data for  DSUAL  dataset\n",
      "Dropping missing values\n",
      "Generating predictions for : Seq2Seq\n",
      "............  mae  ..............\n",
      "        SEQ2SEQ\n",
      "2  2.035745e+10\n",
      "3  2.361837e+12\n",
      "4  1.172645e+08\n",
      "5  1.603578e+13\n",
      "6  2.605501e+10\n",
      "............  rmse  ..............\n",
      "        SEQ2SEQ\n",
      "2  7.896309e+10\n",
      "3  9.162148e+12\n",
      "4  1.014958e+09\n",
      "5  6.448148e+13\n",
      "6  2.219729e+11\n",
      "............  f1score  ..............\n",
      "    SEQ2SEQ\n",
      "2  0.407198\n",
      "3  0.319906\n",
      "4  0.238194\n",
      "5  0.000000\n",
      "6  0.000000\n",
      "............  nde  ..............\n",
      "        SEQ2SEQ\n",
      "2  2.713369e+09\n",
      "3  2.935281e+11\n",
      "4  4.161128e+07\n",
      "5  1.134057e+11\n",
      "6  8.171383e+10\n",
      "Runtime: 34.67 seconds\n"
     ]
    }
   ],
   "source": [
    "from nilmtk_contrib.disaggregate import Seq2Seq\n",
    "\n",
    "\n",
    "\n",
    "# First, let's inspect the available appliances\n",
    "from nilmtk import DataSet\n",
    "\n",
    "\n",
    "\n",
    "# Then modify the experiment configuration\n",
    "from nilmtk.api import API\n",
    "from nilmtk.disaggregate import Hart85, Mean, CO, FHMMExact\n",
    "import warnings\n",
    "warnings.filterwarnings(\"ignore\")\n",
    "\n",
    "import time\n",
    "# Inicio de medición\n",
    "start_time = time.time()\n",
    "\n",
    "\n",
    "experiment1 = {\n",
    "    'power': {\n",
    "        'mains': ['active'],  # Simplify by using only active power\n",
    "        'appliance': ['active']\n",
    "    },\n",
    "    'sample_rate':1, #only with 1 second of samplings\n",
    "      \n",
    "     # 'appliances': ['Electric furnace', 'Microwave','Television','Incandescent Lamp','Vacuum cleaner','Electric space heater','Electric shower heater','Fan','Fridge','Freezer'],\n",
    "      'appliances': [2,3,4,5,6],  # all of the appliances\n",
    "      'methods': {\"SEQ2SEQ\":Seq2Seq({})},\n",
    "      'train': {\n",
    "        'datasets': {\n",
    "            'DSUAL': {\n",
    "                'path': 'dsual.h5',\n",
    "                'buildings': {\n",
    "                    1: {\n",
    "                        'start_time': '2022-02-02 10:16:00',\n",
    "                        'end_time': '2022-02-02 10:58:00'\n",
    "                    }\n",
    "                }\n",
    "            }\n",
    "        }\n",
    "    },\n",
    "    'test': {\n",
    "        'datasets': {\n",
    "            'DSUAL': {\n",
    "                'path': 'dsual.h5',\n",
    "                'buildings': {\n",
    "                    1: {\n",
    "                        'start_time': '2022-02-02 12:00:00',\n",
    "                        'end_time': '2022-02-02 12:58:00'\n",
    "                    }\n",
    "                }\n",
    "            }\n",
    "        },\n",
    "        'metrics': ['mae', 'rmse', 'f1score','nde'],\n",
    "    }\n",
    "}\n",
    "\n",
    "\n",
    "# Execute the experiment\n",
    "api_results_experiment_1 = API(experiment1)\n",
    "\n",
    "\n",
    "#End of the measurement\n",
    "execution_time = time.time() - start_time\n",
    "print(f\"Runtime: {execution_time:.2f} seconds\")"
   ]
  },
  {
   "cell_type": "markdown",
   "metadata": {},
   "source": [
    "# WINDOWGRU"
   ]
  },
  {
   "cell_type": "code",
   "execution_count": 6,
   "metadata": {},
   "outputs": [
    {
     "name": "stdout",
     "output_type": "stream",
     "text": [
      "Joint Testing for all algorithms\n",
      "Loading data for  DSUAL  dataset\n",
      "Dropping missing values\n",
      "Generating predictions for : WindowGRU\n",
      "............  mae  ..............\n",
      "   WINDOWGRU\n",
      "2  10.456833\n",
      "3   4.863578\n",
      "4  10.880608\n",
      "5   5.877874\n",
      "6   8.498844\n",
      "............  rmse  ..............\n",
      "   WINDOWGRU\n",
      "2  11.100576\n",
      "3   5.381739\n",
      "4  19.108414\n",
      "5   6.534875\n",
      "6  11.617349\n",
      "............  f1score  ..............\n",
      "   WINDOWGRU\n",
      "2   0.863053\n",
      "3   0.775859\n",
      "4   0.906341\n",
      "5   0.000000\n",
      "6   0.000000\n",
      "............  nde  ..............\n",
      "   WINDOWGRU\n",
      "2   0.471951\n",
      "3   0.367499\n",
      "4   0.460942\n",
      "5        inf\n",
      "6   0.843445\n",
      "Runtime: 3869.17 seconds\n"
     ]
    }
   ],
   "source": [
    "\n",
    "\n",
    "from nilmtk_contrib.disaggregate import WindowGRU\n",
    "\n",
    "\n",
    "# First, let's inspect the available appliances\n",
    "from nilmtk import DataSet\n",
    "\n",
    "\n",
    "\n",
    "# Then modify the experiment configuration\n",
    "from nilmtk.api import API\n",
    "from nilmtk.disaggregate import Hart85, Mean, CO, FHMMExact\n",
    "import warnings\n",
    "warnings.filterwarnings(\"ignore\")\n",
    "\n",
    "import time\n",
    "\n",
    "# start of the measurement\n",
    "start_time = time.time()\n",
    "\n",
    "\n",
    "experiment1 = {\n",
    "    'power': {\n",
    "        'mains': ['active'],  # Simplify by using only active power\n",
    "        'appliance': ['active']\n",
    "    },\n",
    "    'sample_rate':1, # 1 second of sampling\n",
    "      \n",
    "     # 'appliances': ['Electric furnace', 'Microwave','Television','Incandescent Lamp','Vacuum cleaner','Electric space heater','Electric shower heater','Fan','Fridge','Freezer'],\n",
    "      'appliances': [2,3,4,5,6],  # all of the appliances\n",
    "       'methods': {\"WINDOWGRU\":WindowGRU({})},\n",
    "      'train': {\n",
    "        'datasets': {\n",
    "            'DSUAL': {\n",
    "                'path': 'ualm2.h5',\n",
    "                'buildings': {\n",
    "                    1: {\n",
    "                        'start_time': '2023-02-24 14:17:10',\n",
    "                        'end_time': '2023-02-24 17:40:00'\n",
    "                    }\n",
    "                }\n",
    "            }\n",
    "        }\n",
    "    },\n",
    "    'test': {\n",
    "        'datasets': {\n",
    "            'DSUAL': {\n",
    "                'path': 'ualm2.h5',\n",
    "                'buildings': {\n",
    "                    1: {\n",
    "                        'start_time': '2023-02-24 18:51:28',\n",
    "                        'end_time': '2023-02-24 20:03:54'\n",
    "                    }\n",
    "                }\n",
    "            }\n",
    "        },\n",
    "        'metrics': ['mae', 'rmse', 'f1score','nde'],\n",
    "    }\n",
    "}\n",
    "\n",
    "\n",
    "# Execute the experiment\n",
    "api_results_experiment_1 = API(experiment1)\n",
    "\n",
    "\n",
    "#End of the measurement\n",
    "execution_time = time.time() - start_time\n",
    "print(f\"Runtime: {execution_time:.2f} seconds\")"
   ]
  }
 ],
 "metadata": {
  "kernelspec": {
   "display_name": "Python (nilmtk_env)",
   "language": "python",
   "name": "nilmtk_env"
  },
  "language_info": {
   "codemirror_mode": {
    "name": "ipython",
    "version": 3
   },
   "file_extension": ".py",
   "mimetype": "text/x-python",
   "name": "python",
   "nbconvert_exporter": "python",
   "pygments_lexer": "ipython3",
   "version": "3.7.17"
  }
 },
 "nbformat": 4,
 "nbformat_minor": 2
}
